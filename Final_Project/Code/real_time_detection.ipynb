{
 "cells": [
  {
   "metadata": {},
   "cell_type": "markdown",
   "source": "# Vibration image amplification and Hz measurement algorithm with learned model",
   "id": "4465517b0ac40dc9"
  },
  {
   "metadata": {},
   "cell_type": "markdown",
   "source": "### Initial settings",
   "id": "52e5aac593c565ac"
  },
  {
   "metadata": {
    "ExecuteTime": {
     "end_time": "2025-06-17T06:43:59.808836Z",
     "start_time": "2025-06-17T06:43:53.582910Z"
    }
   },
   "cell_type": "code",
   "source": "from real_time_detection import *",
   "id": "b92ca223ee477e4c",
   "outputs": [],
   "execution_count": 1
  },
  {
   "metadata": {},
   "cell_type": "markdown",
   "source": "### Loading a trained model",
   "id": "221f17e30c5c6e11"
  },
  {
   "metadata": {
    "ExecuteTime": {
     "end_time": "2025-06-17T06:43:59.870259Z",
     "start_time": "2025-06-17T06:43:59.819214Z"
    }
   },
   "cell_type": "code",
   "source": [
    "# Model Load\n",
    "magnification_model = load_magnification_model(\"model/best_magnification_model_L.pth\", DEVICE)"
   ],
   "id": "c59946efc2b2b371",
   "outputs": [],
   "execution_count": 2
  },
  {
   "metadata": {},
   "cell_type": "markdown",
   "source": "### Executable code",
   "id": "2183ebc068ab9be8"
  },
  {
   "metadata": {
    "ExecuteTime": {
     "end_time": "2025-06-17T06:49:22.124562Z",
     "start_time": "2025-06-17T06:46:06.338024Z"
    }
   },
   "cell_type": "code",
   "source": "run_detection_loop(SOURCE, magnification_model, SF)",
   "id": "5e1cda9ba31695d6",
   "outputs": [],
   "execution_count": 14
  }
 ],
 "metadata": {
  "kernelspec": {
   "display_name": "Python 3",
   "language": "python",
   "name": "python3"
  },
  "language_info": {
   "codemirror_mode": {
    "name": "ipython",
    "version": 2
   },
   "file_extension": ".py",
   "mimetype": "text/x-python",
   "name": "python",
   "nbconvert_exporter": "python",
   "pygments_lexer": "ipython2",
   "version": "2.7.6"
  }
 },
 "nbformat": 4,
 "nbformat_minor": 5
}
